{
 "cells": [
  {
   "cell_type": "code",
   "execution_count": 29,
   "metadata": {},
   "outputs": [],
   "source": [
    "import os\n",
    "\n",
    "import matplotlib.pyplot as plt\n",
    "import torch\n",
    "from torch.utils.data import DataLoader\n",
    "from torchvision import datasets, transforms"
   ]
  },
  {
   "cell_type": "code",
   "execution_count": 2,
   "metadata": {},
   "outputs": [],
   "source": [
    "class MutableDataLoader(DataLoader):\n",
    "    def __init__(self, *args, **kwargs):\n",
    "        super().__init__(*args, **kwargs)\n",
    "        self.train_transform = transforms.Compose(\n",
    "            [\n",
    "                transforms.RandomVerticalFlip(p=0.3),\n",
    "                transforms.RandomHorizontalFlip(p=0.3),\n",
    "                transforms.RandomRotation(degrees=72),\n",
    "                transforms.ColorJitter(contrast=0.3, saturation=0.3, brightness=0.3),\n",
    "                transforms.ToTensor(),\n",
    "                transforms.Normalize(mean=(0.5, 0.5, 0.5), std=(0.5, 0.5, 0.5)),\n",
    "            ]\n",
    "        )\n",
    "        self.eval_transform = transforms.Compose(\n",
    "            [\n",
    "                transforms.ToTensor(),\n",
    "                transforms.Normalize(mean=(0.5, 0.5, 0.5), std=(0.5, 0.5, 0.5)),\n",
    "            ]\n",
    "        )\n",
    "\n",
    "    def train(self):\n",
    "        self.dataset.transform = self.train_transform  # type: ignore\n",
    "\n",
    "    def eval(self):\n",
    "        self.dataset.transform = self.eval_transform  # type: ignore"
   ]
  },
  {
   "cell_type": "code",
   "execution_count": 17,
   "metadata": {},
   "outputs": [],
   "source": [
    "def create_dataloaders(train_dir, valid_dir, batch_size, **kwargs):\n",
    "    train_dataset = datasets.ImageFolder(train_dir)\n",
    "    valid_dataset = datasets.ImageFolder(valid_dir)\n",
    "    if not train_dataset.classes == valid_dataset.classes:\n",
    "        raise ValueError(\"train and valid dataset have different classes\")\n",
    "\n",
    "    class_names = train_dataset.classes\n",
    "    class_to_id = train_dataset.class_to_idx\n",
    "\n",
    "    train_loader = MutableDataLoader(\n",
    "        train_dataset,\n",
    "        batch_size=batch_size,\n",
    "        shuffle=True,\n",
    "        **kwargs,\n",
    "    )\n",
    "    valid_loader = MutableDataLoader(\n",
    "        valid_dataset,\n",
    "        batch_size=batch_size,\n",
    "        shuffle=False,\n",
    "        **kwargs,\n",
    "    )\n",
    "\n",
    "    return (train_loader, valid_loader, {\"class_names\": class_names, \"class_to_id\": class_to_id})"
   ]
  },
  {
   "cell_type": "code",
   "execution_count": 33,
   "metadata": {},
   "outputs": [],
   "source": [
    "train_path = \"../data/processed/train/\"\n",
    "valid_path = \"../data/processed/valid/\"\n",
    "num_workers = os.cpu_count()\n",
    "\n",
    "train_loader, valid_loader, classes = create_dataloaders(\n",
    "    train_path,\n",
    "    valid_path,\n",
    "    batch_size=32,\n",
    "    num_workers=num_workers,  # type: ignore\n",
    "    pin_memory=True,\n",
    "    persistent_workers=True,\n",
    ")"
   ]
  }
 ],
 "metadata": {
  "kernelspec": {
   "display_name": "resilient_tyre_quality_vision",
   "language": "python",
   "name": "python3"
  },
  "language_info": {
   "codemirror_mode": {
    "name": "ipython",
    "version": 3
   },
   "file_extension": ".py",
   "mimetype": "text/x-python",
   "name": "python",
   "nbconvert_exporter": "python",
   "pygments_lexer": "ipython3",
   "version": "3.10.5"
  }
 },
 "nbformat": 4,
 "nbformat_minor": 2
}
